{
 "cells": [
  {
   "cell_type": "code",
   "execution_count": 42,
   "metadata": {},
   "outputs": [],
   "source": [
    "import pandas as pd"
   ]
  },
  {
   "cell_type": "code",
   "execution_count": 43,
   "metadata": {},
   "outputs": [
    {
     "name": "stderr",
     "output_type": "stream",
     "text": [
      "C:\\Users\\styt-\\AppData\\Local\\Temp\\ipykernel_23892\\3221867704.py:1: DtypeWarning: Columns (5) have mixed types. Specify dtype option on import or set low_memory=False.\n",
      "  df_econ = pd.read_csv(\"CSGO_ProfessionalPlay/economy.csv\",encoding=\"utf-8\")\n"
     ]
    }
   ],
   "source": [
    "df_econ = pd.read_csv(\"CSGO_ProfessionalPlay/economy.csv\",encoding=\"utf-8\")\n",
    "df_pick = pd.read_csv(\"CSGO_ProfessionalPlay/picks.csv\",encoding=\"utf-8\")\n",
    "df_play = pd.read_csv(\"CSGO_ProfessionalPlay/players.csv\",encoding=\"utf-8\")\n",
    "df_res = pd.read_csv(\"CSGO_ProfessionalPlay/results.csv\",encoding=\"utf-8\")\n"
   ]
  },
  {
   "cell_type": "code",
   "execution_count": 44,
   "metadata": {},
   "outputs": [],
   "source": [
    "# PREPROCESSING FOR THE results.csv FILE\n",
    "# Map the names of teams to unique numbers\n",
    "all_teams = pd.concat([df_res[\"team_1\"], df_res[\"team_2\"]])\n",
    "unique_teams = all_teams.unique()\n",
    "team_map = {team: i+1 for i, team in enumerate(unique_teams)}\n",
    "df_res[\"team_1_mapped\"] = df_res[\"team_1\"].map(team_map)\n",
    "df_res[\"team_2_mapped\"] = df_res[\"team_2\"].map(team_map)\n",
    "df_res.drop(\"team_1\",axis=1, inplace=True)\n",
    "df_res.drop(\"team_2\",axis=1, inplace=True)\n",
    "\n",
    "# Map the names of maps to unique numbers\n",
    "unique_maps = df_res[\"_map\"].unique()\n",
    "maps_map = {map: i+1 for i, map in enumerate(unique_maps)}\n",
    "df_res[\"maps_mapped\"] = df_res[\"_map\"].map(maps_map)\n",
    "df_res.drop(\"_map\",axis=1, inplace=True)\n",
    "\n"
   ]
  },
  {
   "cell_type": "code",
   "execution_count": 45,
   "metadata": {},
   "outputs": [],
   "source": [
    "# PREPROCESSING OF player.csv FILE\n",
    "df_play.drop(\"player_name\",axis=1,inplace=True)\n",
    "df_play[\"team_mapped\"] = df_play[\"team\"].map(team_map)\n",
    "df_play[\"opponent_mapped\"] = df_play[\"opponent\"].map(team_map)\n",
    "\n",
    "unique_countries = df_play[\"country\"].unique()\n",
    "country_map = {country: i+1 for i, country in enumerate(unique_countries)}\n",
    "df_play[\"country_mapped\"] = df_play[\"country\"].map(country_map)\n",
    "df_play.drop(\"country\",axis=1,inplace=True)\n",
    "df_play.drop(\"opponent\",axis=1,inplace=True)\n",
    "df_play.drop(\"team\",axis=1,inplace=True)\n"
   ]
  }
 ],
 "metadata": {
  "kernelspec": {
   "display_name": "Python 3",
   "language": "python",
   "name": "python3"
  },
  "language_info": {
   "codemirror_mode": {
    "name": "ipython",
    "version": 3
   },
   "file_extension": ".py",
   "mimetype": "text/x-python",
   "name": "python",
   "nbconvert_exporter": "python",
   "pygments_lexer": "ipython3",
   "version": "3.10.10"
  },
  "orig_nbformat": 4
 },
 "nbformat": 4,
 "nbformat_minor": 2
}
