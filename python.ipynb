{
 "cells": [
  {
   "cell_type": "code",
   "execution_count": null,
   "metadata": {},
   "outputs": [],
   "source": [
    "import pandas as pd\n"
   ]
  },
  {
   "cell_type": "code",
   "execution_count": null,
   "metadata": {},
   "outputs": [],
   "source": [
    "df_econ = pd.read_csv(\"CSGO_ProfessionalPlay/economy.csv\",encoding=\"utf-8\")\n",
    "df_pick = pd.read_csv(\"CSGO_ProfessionalPlay/picks.csv\",encoding=\"utf-8\")\n",
    "df_play = pd.read_csv(\"CSGO_ProfessionalPlay/players.csv\",encoding=\"utf-8\")\n",
    "df_res = pd.read_csv(\"CSGO_ProfessionalPlay/results.csv\",encoding=\"utf-8\")\n"
   ]
  },
  {
   "cell_type": "code",
   "execution_count": null,
   "metadata": {},
   "outputs": [],
   "source": [
    "# PREPROCESSING FOR THE results.csv FILE\n",
    "# Map the names of teams to unique numbers\n",
    "all_teams = pd.concat([df_res[\"team_1\"], df_res[\"team_2\"]])\n",
    "unique_teams = all_teams.unique()\n",
    "team_map = {team: i+1 for i, team in enumerate(unique_teams)}\n",
    "df_res[\"team_1_mapped\"] = df_res[\"team_1\"].map(team_map)\n",
    "df_res[\"team_2_mapped\"] = df_res[\"team_2\"].map(team_map)\n",
    "df_res.drop(\"team_1\",axis=1, inplace=True)\n",
    "df_res.drop(\"team_2\",axis=1, inplace=True)\n",
    "\n",
    "# Map the names of maps to unique numbers\n",
    "unique_maps = df_res[\"_map\"].unique()\n",
    "maps_map = {map: i+1 for i, map in enumerate(unique_maps)}\n",
    "df_res[\"maps_mapped\"] = df_res[\"_map\"].map(maps_map)\n",
    "df_res.drop(\"_map\",axis=1, inplace=True)\n",
    "\n"
   ]
  },
  {
   "cell_type": "code",
   "execution_count": null,
   "metadata": {},
   "outputs": [],
   "source": [
    "# PREPROCESSING OF player.csv FILE\n",
    "df_play.drop(\"player_name\",axis=1,inplace=True)\n",
    "\n",
    "df_play[\"team_mapped\"] = df_play[\"team\"].map(team_map)\n",
    "df_play[\"opponent_mapped\"] = df_play[\"opponent\"].map(team_map)\n",
    "\n",
    "unique_countries = df_play[\"country\"].unique()\n",
    "country_map = {country: i+1 for i, country in enumerate(unique_countries)}\n",
    "df_play[\"country_mapped\"] = df_play[\"country\"].map(country_map)\n",
    "df_play.drop(\"country\",axis=1,inplace=True)\n",
    "df_play.drop(\"opponent\",axis=1,inplace=True)\n",
    "df_play.drop(\"team\",axis=1,inplace=True)\n",
    "# Map the names of maps to unique numbers\n",
    "df_play[\"map_1_mapped\"] = df_play[\"map_1\"].map(maps_map)\n",
    "df_play[\"map_2_mapped\"] = df_play[\"map_2\"].map(maps_map)\n",
    "df_play[\"map_3_mapped\"] = df_play[\"map_3\"].map(maps_map)\n",
    "df_play.drop(\"map_1\",axis=1,inplace=True)\n",
    "df_play.drop(\"map_2\",axis=1,inplace=True)\n",
    "df_play.drop(\"map_3\",axis=1,inplace=True)\n",
    "\n",
    "\n"
   ]
  },
  {
   "cell_type": "code",
   "execution_count": null,
   "metadata": {},
   "outputs": [],
   "source": [
    "# PREPROCESSING OF picks.csv FILE\n",
    "df_pick[\"team_1_mapped\"] = df_pick[\"team_1\"].map(team_map)\n",
    "df_pick[\"team_2_mapped\"] = df_pick[\"team_2\"].map(team_map)\n",
    "df_pick.drop(\"team_1\",axis=1, inplace=True)\n",
    "df_pick.drop(\"team_2\",axis=1, inplace=True)\n",
    "\n",
    "df_pick[\"t1_removed_1_mapped\"] = df_pick[\"t1_removed_1\"].map(maps_map)\n",
    "df_pick[\"t1_removed_2_mapped\"] = df_pick[\"t1_removed_2\"].map(maps_map)\n",
    "df_pick[\"t1_removed_3_mapped\"] = df_pick[\"t1_removed_3\"].map(maps_map)\n",
    "df_pick[\"t2_removed_1_mapped\"] = df_pick[\"t2_removed_1\"].map(maps_map)\n",
    "df_pick[\"t2_removed_2_mapped\"] = df_pick[\"t2_removed_2\"].map(maps_map)\n",
    "df_pick[\"t2_removed_3_mapped\"] = df_pick[\"t2_removed_3\"].map(maps_map)\n",
    "df_pick[\"t1_picked_1_mapped\"] = df_pick[\"t1_picked_1\"].map(maps_map)\n",
    "df_pick[\"t2_picked_1_mapped\"] = df_pick[\"t2_picked_1\"].map(maps_map)\n",
    "df_pick[\"left_over_mapped\"] = df_pick[\"left_over\"].map(maps_map)\n",
    "df_pick.drop(\"t1_removed_1\",axis=1, inplace=True)\n",
    "df_pick.drop(\"t1_removed_2\",axis=1, inplace=True)\n",
    "df_pick.drop(\"t1_removed_3\",axis=1, inplace=True)\n",
    "df_pick.drop(\"t2_removed_1\",axis=1, inplace=True)\n",
    "df_pick.drop(\"t2_removed_2\",axis=1, inplace=True)\n",
    "df_pick.drop(\"t2_removed_3\",axis=1, inplace=True)\n",
    "df_pick.drop(\"t1_picked_1\",axis=1, inplace=True)\n",
    "df_pick.drop(\"t2_picked_1\",axis=1, inplace=True)\n",
    "df_pick.drop(\"left_over\",axis=1, inplace=True)\n",
    "\n",
    "\n"
   ]
  },
  {
   "cell_type": "code",
   "execution_count": null,
   "metadata": {},
   "outputs": [],
   "source": [
    "# PREPROCESSING OF economy.csv FILE\n",
    "df_econ[\"team_1_mapped\"] = df_econ[\"team_1\"].map(team_map)\n",
    "df_econ[\"team_2_mapped\"] = df_econ[\"team_2\"].map(team_map)\n",
    "df_econ.drop(\"team_1\",axis=1, inplace=True)\n",
    "df_econ.drop(\"team_2\",axis=1, inplace=True)\n",
    "\n",
    "df_econ[\"maps_mapped\"] = df_econ[\"_map\"].map(maps_map)\n",
    "df_econ.drop(\"_map\",axis=1, inplace=True)\n",
    "\n",
    "\n",
    "t_ct = df_econ[\"t1_start\"].unique()\n",
    "t_ct_map = {t_ct_: i+1 for i, t_ct_ in enumerate(t_ct)}\n",
    "df_econ[\"t1_start_mapped\"] = df_econ[\"t1_start\"].map(t_ct_map)\n",
    "df_econ[\"t2_start_mapped\"] = df_econ[\"t2_start\"].map(t_ct_map)\n",
    "df_econ.drop(\"t1_start\",axis=1, inplace=True)\n",
    "df_econ.drop(\"t2_start\",axis=1, inplace=True)\n"
   ]
  },
  {
   "cell_type": "code",
   "execution_count": null,
   "metadata": {},
   "outputs": [],
   "source": [
    "pd.set_option('display.max_rows',None)\n",
    "pd.set_option('display.max_columns',None)\n",
    "df_econ\n",
    "# df_play.corr()\n"
   ]
  }
 ],
 "metadata": {
  "kernelspec": {
   "display_name": "Python 3",
   "language": "python",
   "name": "python3"
  },
  "language_info": {
   "codemirror_mode": {
    "name": "ipython",
    "version": 3
   },
   "file_extension": ".py",
   "mimetype": "text/x-python",
   "name": "python",
   "nbconvert_exporter": "python",
   "pygments_lexer": "ipython3",
   "version": "3.10.11"
  },
  "orig_nbformat": 4
 },
 "nbformat": 4,
 "nbformat_minor": 2
}
